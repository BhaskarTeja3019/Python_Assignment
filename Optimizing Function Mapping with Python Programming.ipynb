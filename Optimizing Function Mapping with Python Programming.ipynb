{
 "cells": [
  {
   "cell_type": "markdown",
   "id": "2391a3cd",
   "metadata": {},
   "source": [
    "# Importing necessary library"
   ]
  },
  {
   "cell_type": "code",
   "execution_count": 1,
   "id": "665b05a1",
   "metadata": {},
   "outputs": [],
   "source": [
    "# Importing necessary libraries\n",
    "import pandas as pd\n",
    "import numpy as np\n",
    "import sqlalchemy\n",
    "from sqlalchemy import create_engine, Column, Integer, Float, String, MetaData, Table\n",
    "from sqlalchemy.orm import sessionmaker\n",
    "from sqlalchemy.ext.declarative import declarative_base\n",
    "import bokeh.plotting as bp\n",
    "from bokeh.models import ColumnDataSource\n",
    "from bokeh.layouts import gridplot\n",
    "import unittest\n",
    "import os"
   ]
  },
  {
   "cell_type": "markdown",
   "id": "b0ef7695",
   "metadata": {},
   "source": [
    "# Load training, ideal, and test datasets"
   ]
  },
  {
   "cell_type": "code",
   "execution_count": 2,
   "id": "0afab349",
   "metadata": {},
   "outputs": [],
   "source": [
    "# Load training, ideal, and test datasets\n",
    "training_df = pd.read_csv('train.csv')\n",
    "ideal_df = pd.read_csv('ideal.csv')\n",
    "test_df = pd.read_csv('test.csv')\n"
   ]
  },
  {
   "cell_type": "markdown",
   "id": "118e786b",
   "metadata": {},
   "source": [
    "# Create SQLite Database and Tables"
   ]
  },
  {
   "cell_type": "code",
   "execution_count": 3,
   "id": "5e37de04",
   "metadata": {},
   "outputs": [
    {
     "name": "stderr",
     "output_type": "stream",
     "text": [
      "C:\\Users\\ARPAN\\AppData\\Local\\Temp\\ipykernel_5904\\390171779.py:2: MovedIn20Warning: The ``declarative_base()`` function is now available as sqlalchemy.orm.declarative_base(). (deprecated since: 2.0) (Background on SQLAlchemy 2.0 at: https://sqlalche.me/e/b8d9)\n",
      "  Base = declarative_base()\n"
     ]
    }
   ],
   "source": [
    "# Define the declarative base\n",
    "Base = declarative_base()\n",
    "class TrainingData(Base):\n",
    "    \"\"\"ORM class for the training data table.\"\"\"\n",
    "    __tablename__ = 'training_data'\n",
    "    id = Column(Integer, primary_key=True)\n",
    "    x = Column(Float, nullable=False)\n",
    "    y1 = Column(Float, nullable=False)\n",
    "    y2 = Column(Float, nullable=False)\n",
    "    y3 = Column(Float, nullable=False)\n",
    "    y4 = Column(Float, nullable=False)\n",
    "\n",
    "class IdealFunctions(Base):\n",
    "    \"\"\"ORM class for the ideal functions table.\"\"\"\n",
    "    __tablename__ = 'ideal_functions'\n",
    "    id = Column(Integer, primary_key=True)\n",
    "    x = Column(Float, nullable=False)\n",
    "    y1 = Column(Float, nullable=False)\n",
    "    y2 = Column(Float, nullable=False)\n",
    "    y3 = Column(Float, nullable=False)\n",
    "    y4 = Column(Float, nullable=False)\n",
    "    y5 = Column(Float, nullable=False)\n",
    "    y6 = Column(Float, nullable=False)\n",
    "    y7 = Column(Float, nullable=False)\n",
    "    y8 = Column(Float, nullable=False)\n",
    "    y9 = Column(Float, nullable=False)\n",
    "    y10 = Column(Float, nullable=False)\n",
    "    y11 = Column(Float, nullable=False)\n",
    "    y12 = Column(Float, nullable=False)\n",
    "    y13 = Column(Float, nullable=False)\n",
    "    y14 = Column(Float, nullable=False)\n",
    "    y15 = Column(Float, nullable=False)\n",
    "    y16 = Column(Float, nullable=False)\n",
    "    y17 = Column(Float, nullable=False)\n",
    "    y18 = Column(Float, nullable=False)\n",
    "    y19 = Column(Float, nullable=False)\n",
    "    y20 = Column(Float, nullable=False)\n",
    "    y21 = Column(Float, nullable=False)\n",
    "    y22 = Column(Float, nullable=False)\n",
    "    y23 = Column(Float, nullable=False)\n",
    "    y24 = Column(Float, nullable=False)\n",
    "    y25 = Column(Float, nullable=False)\n",
    "    y26 = Column(Float, nullable=False)\n",
    "    y27 = Column(Float, nullable=False)\n",
    "    y28 = Column(Float, nullable=False)\n",
    "    y29 = Column(Float, nullable=False)\n",
    "    y30 = Column(Float, nullable=False)\n",
    "    y31 = Column(Float, nullable=False)\n",
    "    y32 = Column(Float, nullable=False)\n",
    "    y33 = Column(Float, nullable=False)\n",
    "    y34 = Column(Float, nullable=False)\n",
    "    y35 = Column(Float, nullable=False)\n",
    "    y36 = Column(Float, nullable=False)\n",
    "    y37 = Column(Float, nullable=False)\n",
    "    y38 = Column(Float, nullable=False)\n",
    "    y39 = Column(Float, nullable=False)\n",
    "    y40 = Column(Float, nullable=False)\n",
    "    y41 = Column(Float, nullable=False)\n",
    "    y42 = Column(Float, nullable=False)\n",
    "    y43 = Column(Float, nullable=False)\n",
    "    y44 = Column(Float, nullable=False)\n",
    "    y45 = Column(Float, nullable=False)\n",
    "    y46 = Column(Float, nullable=False)\n",
    "    y47 = Column(Float, nullable=False)\n",
    "    y48 = Column(Float, nullable=False)\n",
    "    y49 = Column(Float, nullable=False)\n",
    "    y50 = Column(Float, nullable=False)\n",
    "\n",
    "class TestData(Base):\n",
    "    \"\"\"ORM class for the test data table.\"\"\"\n",
    "    __tablename__ = 'test_data'\n",
    "    id = Column(Integer, primary_key=True)\n",
    "    x = Column(Float, nullable=False)\n",
    "    y = Column(Float, nullable=False)\n",
    "    delta_y = Column(Float, nullable=True)\n",
    "    ideal_function = Column(String, nullable=True)"
   ]
  },
  {
   "cell_type": "markdown",
   "id": "d16761ca",
   "metadata": {},
   "source": [
    "# Load Data into Database"
   ]
  },
  {
   "cell_type": "code",
   "execution_count": 4,
   "id": "9feb967e",
   "metadata": {},
   "outputs": [],
   "source": [
    "# Create an SQLite database and a session\n",
    "engine = create_engine('sqlite:///data.db')\n",
    "Base.metadata.drop_all(engine)  # Drop existing tables\n",
    "Base.metadata.create_all(engine)  # Create new tables\n",
    "Session = sessionmaker(bind=engine)\n",
    "session = Session()\n",
    "\n",
    "def load_data_to_db(session, df, table_class):\n",
    "    \"\"\"\n",
    "    Load data from a DataFrame into a specified database table.\n",
    "\n",
    "    Args:\n",
    "        session: SQLAlchemy session object.\n",
    "        df: DataFrame containing data to be loaded.\n",
    "        table_class: SQLAlchemy ORM class representing the target table.\n",
    "    \"\"\"\n",
    "    for _, row in df.iterrows():\n",
    "        session.add(table_class(**row.to_dict()))\n",
    "    session.commit()\n",
    "\n",
    "# Load data into database\n",
    "load_data_to_db(session, training_df, TrainingData)\n",
    "load_data_to_db(session, ideal_df, IdealFunctions)\n",
    "load_data_to_db(session, test_df, TestData)  # Load test data"
   ]
  },
  {
   "cell_type": "markdown",
   "id": "8cc4c270",
   "metadata": {},
   "source": [
    "# Select Ideal Functions"
   ]
  },
  {
   "cell_type": "code",
   "execution_count": 5,
   "id": "3ce9e026",
   "metadata": {},
   "outputs": [
    {
     "name": "stdout",
     "output_type": "stream",
     "text": [
      "Selected ideal functions: [('y1', 'y42'), ('y2', 'y41'), ('y3', 'y11'), ('y4', 'y48')]\n"
     ]
    }
   ],
   "source": [
    "def select_ideal_functions(training_df, ideal_df):\n",
    "    \"\"\"\n",
    "    Select the ideal functions that best match the training data.\n",
    "\n",
    "    Args:\n",
    "        training_df: DataFrame containing the training data.\n",
    "        ideal_df: DataFrame containing the ideal functions.\n",
    "\n",
    "    Returns:\n",
    "        A list of tuples, each containing the training column name and the best matching ideal function column name.\n",
    "    \"\"\"\n",
    "    ideal_functions = []\n",
    "    for col in training_df.columns[1:]:  # Exclude the 'x' column\n",
    "        deviations = []\n",
    "        for ideal_col in ideal_df.columns[1:]:  # Exclude the 'x' column\n",
    "            deviation = np.sum((training_df[col] - ideal_df[ideal_col]) ** 2)\n",
    "            deviations.append((ideal_col, deviation))\n",
    "        deviations.sort(key=lambda x: x[1])\n",
    "        ideal_functions.append((col, deviations[0][0]))  # Select the best matching ideal function for each training column\n",
    "    return ideal_functions\n",
    "\n",
    "selected_ideal_functions = select_ideal_functions(training_df, ideal_df)\n",
    "print(\"Selected ideal functions:\", selected_ideal_functions)"
   ]
  },
  {
   "cell_type": "markdown",
   "id": "e402bf17",
   "metadata": {},
   "source": [
    "# Map Test Data"
   ]
  },
  {
   "cell_type": "code",
   "execution_count": 6,
   "id": "ae9fddf9",
   "metadata": {},
   "outputs": [],
   "source": [
    "def map_test_data(test_df, ideal_df, selected_ideal_functions):\n",
    "    \"\"\"\n",
    "    Map test data to the ideal functions and calculate the deviations.\n",
    "\n",
    "    Args:\n",
    "        test_df: DataFrame containing the test data.\n",
    "        ideal_df: DataFrame containing the ideal functions.\n",
    "        selected_ideal_functions: List of tuples containing the selected ideal functions for each training column.\n",
    "\n",
    "    Returns:\n",
    "        A DataFrame containing the test data, deviations, and corresponding ideal function.\n",
    "    \"\"\"\n",
    "    results = []\n",
    "    for _, test_row in test_df.iterrows():\n",
    "        x_test = test_row['x']\n",
    "        y_test = test_row['y']\n",
    "        best_deviation = float('inf')\n",
    "        best_ideal_function = None\n",
    "        for y_train_col, y_ideal_col in selected_ideal_functions:\n",
    "            ideal_y_values = ideal_df[y_ideal_col].values\n",
    "            x_ideal_values = ideal_df['x'].values\n",
    "            interpolated_y_ideal = np.interp(x_test, x_ideal_values, ideal_y_values)\n",
    "            deviation = abs(y_test - interpolated_y_ideal)\n",
    "            if deviation < best_deviation:\n",
    "                best_deviation = deviation\n",
    "                best_ideal_function = y_ideal_col\n",
    "        results.append((x_test, y_test, best_deviation, best_ideal_function))\n",
    "    result_df = pd.DataFrame(results, columns=['x', 'y', 'deviation', 'ideal_function'])\n",
    "    return result_df\n"
   ]
  },
  {
   "cell_type": "code",
   "execution_count": 7,
   "id": "212f7e70",
   "metadata": {},
   "outputs": [
    {
     "name": "stdout",
     "output_type": "stream",
     "text": [
      "Mapping results:\n",
      "       x          y  deviation ideal_function\n",
      "0  17.5  34.161040   0.351148            y41\n",
      "1   0.3   1.215102   0.467342            y41\n",
      "2  -8.7 -16.843908   0.887577            y41\n",
      "3 -19.2 -37.170870   1.400790            y41\n",
      "4 -11.0 -20.263054   1.236952            y41\n"
     ]
    }
   ],
   "source": [
    "# Map the test data to the selected ideal functions\n",
    "mapping_results = map_test_data(test_df, ideal_df, selected_ideal_functions)\n",
    "print(\"Mapping results:\\n\", mapping_results.head())"
   ]
  },
  {
   "cell_type": "markdown",
   "id": "95e29efb",
   "metadata": {},
   "source": [
    "# Function to visualize data"
   ]
  },
  {
   "cell_type": "code",
   "execution_count": 8,
   "id": "daa96922",
   "metadata": {},
   "outputs": [],
   "source": [
    "# Function to visualize data\n",
    "def visualize_data(training_df, test_df, ideal_df, selected_ideal_functions, mapping_results):\n",
    "    \"\"\"\n",
    "    Visualize the training data, ideal functions, and test data with deviations.\n",
    "\n",
    "    Args:\n",
    "        training_df: DataFrame containing the training data.\n",
    "        test_df: DataFrame containing the test data.\n",
    "        ideal_df: DataFrame containing the ideal functions.\n",
    "        selected_ideal_functions: List of tuples containing the selected ideal functions for each training column.\n",
    "        mapping_results: DataFrame containing the test data, deviations, and corresponding ideal function.\n",
    "    \"\"\"\n",
    "    p1 = bp.figure(title=\"Training Data vs Ideal Functions\", x_axis_label='x', y_axis_label='y', width=400, height=400)\n",
    "    for col in training_df.columns[1:]:\n",
    "        p1.line(training_df['x'], training_df[col], legend_label=col, line_width=2)\n",
    "    for ideal_col in ideal_df.columns[1:]:\n",
    "        p1.line(ideal_df['x'], ideal_df[ideal_col], legend_label=f'Ideal {ideal_col}', line_width=1, line_color='red')\n",
    "    source = ColumnDataSource(mapping_results)\n",
    "    p2 = bp.figure(title=\"Test Data with Deviations\", x_axis_label='x', y_axis_label='deviation', width=400, height=400)\n",
    "    p2.scatter('x', 'deviation', source=source, legend_label='Test Data', color='green')\n",
    "    layout = gridplot([[p1, p2]])\n",
    "    bp.show(layout)"
   ]
  },
  {
   "cell_type": "code",
   "execution_count": 9,
   "id": "f1f1e88c",
   "metadata": {},
   "outputs": [],
   "source": [
    "# Call visualization function\n",
    "visualize_data(training_df, test_df, ideal_df, selected_ideal_functions, mapping_results)"
   ]
  },
  {
   "cell_type": "markdown",
   "id": "c8d2e3f5",
   "metadata": {},
   "source": [
    "# Unit Test"
   ]
  },
  {
   "cell_type": "code",
   "execution_count": 10,
   "id": "3a2ddfaa",
   "metadata": {},
   "outputs": [
    {
     "name": "stderr",
     "output_type": "stream",
     "text": [
      "test_map_test_data (__main__.TestFunctions)\n",
      "Test the map_test_data function. ... ok\n",
      "test_select_ideal_functions (__main__.TestFunctions)\n",
      "Test the select_ideal_functions function. ... ok\n",
      "\n",
      "----------------------------------------------------------------------\n",
      "Ran 2 tests in 0.006s\n",
      "\n",
      "OK\n"
     ]
    },
    {
     "data": {
      "text/plain": [
       "<unittest.runner.TextTestResult run=2 errors=0 failures=0>"
      ]
     },
     "execution_count": 10,
     "metadata": {},
     "output_type": "execute_result"
    }
   ],
   "source": [
    "# Unit Tests\n",
    "class TestFunctions(unittest.TestCase):\n",
    "    \"\"\"Unit tests for select_ideal_functions and map_test_data functions.\"\"\"\n",
    "\n",
    "    def test_select_ideal_functions(self):\n",
    "        \"\"\"Test the select_ideal_functions function.\"\"\"\n",
    "        training_df = pd.DataFrame({'x': [1, 2, 3], 'y1': [1, 2, 3], 'y2': [2, 3, 4]})\n",
    "        ideal_df = pd.DataFrame({'x': [1, 2, 3], 'y1': [1, 2, 3], 'y2': [2, 3, 5]})\n",
    "        selected_ideal_functions = select_ideal_functions(training_df, ideal_df)\n",
    "        self.assertEqual(selected_ideal_functions, [('y1', 'y1'), ('y2', 'y2')])\n",
    "\n",
    "    def test_map_test_data(self):\n",
    "        \"\"\"Test the map_test_data function.\"\"\"\n",
    "        test_df = pd.DataFrame({'x': [1, 2, 3], 'y': [1, 2, 3]})\n",
    "        ideal_df = pd.DataFrame({'x': [1, 2, 3], 'y1': [1, 2, 3], 'y2': [2, 3, 4]})\n",
    "        selected_ideal_functions = [('y1', 'y1'), ('y2', 'y2')]\n",
    "        result_df = map_test_data(test_df, ideal_df, selected_ideal_functions)\n",
    "        expected_result_df = pd.DataFrame({'x': [1, 2, 3], 'y': [1, 2, 3], 'deviation': [0.0, 0.0, 0.0], 'ideal_function': ['y1', 'y1', 'y1']})\n",
    "        pd.testing.assert_frame_equal(result_df, expected_result_df)\n",
    "\n",
    "# Run the tests\n",
    "loader = unittest.TestLoader()\n",
    "tests = loader.loadTestsFromTestCase(TestFunctions)\n",
    "testRunner = unittest.TextTestRunner(verbosity=2)\n",
    "testRunner.run(tests)"
   ]
  }
 ],
 "metadata": {
  "kernelspec": {
   "display_name": "Python 3 (ipykernel)",
   "language": "python",
   "name": "python3"
  },
  "language_info": {
   "codemirror_mode": {
    "name": "ipython",
    "version": 3
   },
   "file_extension": ".py",
   "mimetype": "text/x-python",
   "name": "python",
   "nbconvert_exporter": "python",
   "pygments_lexer": "ipython3",
   "version": "3.10.9"
  }
 },
 "nbformat": 4,
 "nbformat_minor": 5
}
